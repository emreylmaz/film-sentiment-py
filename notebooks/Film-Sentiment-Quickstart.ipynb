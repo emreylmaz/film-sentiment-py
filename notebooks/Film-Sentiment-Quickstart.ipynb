{
 "cells": [
  {
   "cell_type": "markdown",
   "metadata": {},
   "source": [
    "# Film Sentiment Quickstart\n",
    "End-to-end notebook: load data, train TF-IDF + Logistic Regression, save model, and test predictions/API."
   ]
  },
  {
   "cell_type": "code",
   "execution_count": null,
   "metadata": {},
   "outputs": [],
   "source": [
    "# Environment setup\n",
    "import os, sys\n",
    "# Ensure project root is on sys.path if running from notebooks/\n",
    "root = os.path.abspath(os.path.join(os.getcwd(), '..'))\n",
    "if root not in sys.path: sys.path.append(root)\n",
    "import pandas as pd\n",
    "print('Python:', sys.version)"
   ]
  },
  {
   "cell_type": "markdown",
   "metadata": {},
   "source": [
    "## Load Dataset"
   ]
  },
  {
   "cell_type": "code",
   "execution_count": null,
   "metadata": {},
   "outputs": [],
   "source": [
    "from src.data_loader import load_dataset\n",
    "csv_path = os.path.join(root, 'data', 'IMDB Dataset.csv')\n",
    "df = load_dataset(csv_path)\n",
    "df.head()"
   ]
  },
  {
   "cell_type": "markdown",
   "metadata": {},
   "source": [
    "## Train Model and Save"
   ]
  },
  {
   "cell_type": "code",
   "execution_count": null,
   "metadata": {},
   "outputs": [],
   "source": [
    "from src.training.train import train_model\n",
    "import joblib\n",
    "model, metrics = train_model(df, test_size=0.2, random_state=42)\n",
    "print('Accuracy:', round(metrics['accuracy'], 4))\n",
    "print('F1 (macro):', round(metrics['f1'], 4))\n",
    "model_path = os.path.join(root, 'models', 'sentiment_model.joblib')\n",
    "os.makedirs(os.path.dirname(model_path), exist_ok=True)\n",
    "joblib.dump(model, model_path)\n",
    "print('Saved model to', model_path)"
   ]
  },
  {
   "cell_type": "markdown",
   "metadata": {},
   "source": [
    "## Quick Predictions"
   ]
  },
  {
   "cell_type": "code",
   "execution_count": null,
   "metadata": {},
   "outputs": [],
   "source": [
    "texts = [\"This was a great movie!\", \"Terrible plot and acting.\"]\n",
    "preds = model.predict(texts)\n",
    "labels = ['positive' if p == 1 else 'negative' for p in preds]\n",
    "list(zip(texts, labels))"
   ]
  },
  {
   "cell_type": "markdown",
   "metadata": {},
   "source": [
    "## Test FastAPI Endpoint (in-notebook)\n",
    "Demonstrates calling the API app using FastAPI's TestClient without starting a server."
   ]
  },
  {
   "cell_type": "code",
   "execution_count": null,
   "metadata": {},
   "outputs": [],
   "source": [
    "# Ensure API loads the saved model via MODEL_PATH at import time\n",
    "import importlib\n",
    "os.environ['MODEL_PATH'] = model_path\n",
    "if 'api.main' in sys.modules: del sys.modules['api.main']\n",
    "import api.main as apimod\n",
    "# Load model into API state (mirrors startup)\n",
    "apimod.load_model()\n",
    "from fastapi.testclient import TestClient\n",
    "client = TestClient(apimod.app)\n",
    "resp = client.post('/v1/sentiment', json={'texts': ['Absolutely fantastic!', 'Not my taste']})\n",
    "resp.status_code, resp.json()"
   ]
  },
  {
   "cell_type": "markdown",
   "metadata": {},
   "source": [
    "## Optional: Call a running server\n",
    "If you run: `uvicorn api.main:app --reload` (after setting `MODEL_PATH`), you can use `requests` below."
   ]
  },
  {
   "cell_type": "code",
   "execution_count": null,
   "metadata": {},
   "outputs": [],
   "source": [
    "# import requests\n",
    "# r = requests.post('http://127.0.0.1:8000/v1/sentiment', json={'texts': ['Great film']})\n",
    "# r.json()"
   ]
  }
 ],
 "metadata": {
  "kernelspec": {
   "display_name": "Python 3",
   "language": "python",
   "name": "python3"
  },
  "language_info": {
   "name": "python",
   "pygments_lexer": "ipython3"
  }
 },
 "nbformat": 4,
 "nbformat_minor": 5
}

